{
 "cells": [
  {
   "cell_type": "markdown",
   "metadata": {
    "deletable": true,
    "editable": true
   },
   "source": [
    "# Simple Neural Network\n",
    "A simple 3 layer classifier in python - with no bias or regularization.\n",
    "Created on a [vnode](https://github.com/thomaswilley/vnode) :)\n",
    "\n",
    "@thomaswilley"
   ]
  },
  {
   "cell_type": "code",
   "execution_count": 1,
   "metadata": {
    "collapsed": false,
    "deletable": true,
    "editable": true
   },
   "outputs": [
    {
     "data": {
      "image/png": "[encoded data removed]",
      "text/plain": [
       "<matplotlib.figure.Figure at 0x7f61c020d780>"
      ]
     },
     "metadata": {},
     "output_type": "display_data"
    }
   ],
   "source": [
    "import matplotlib.pyplot as plt\n",
    "import numpy as np\n",
    "from sklearn.datasets import load_digits\n",
    "%matplotlib inline\n",
    "\n",
    "src_X, src_y = load_digits(return_X_y=True)\n",
    "m, dim_input = src_X.shape\n",
    "dim_hidden = 100\n",
    "dim_output = 10\n",
    "m_train = 1000\n",
    "\n",
    "X_train = src_X[0:m_train, :] / 255\n",
    "X_test = src_X[m_train+1::, :]/ 255\n",
    "\n",
    "y = np.zeros((m, 10))\n",
    "y[np.arange(m), src_y]=1\n",
    "y_train = y[0:m_train, :]\n",
    "y_test = y[m_train+1::, :]\n",
    "\n",
    "img_dim = int(np.sqrt(src_X.shape[1]))\n",
    "images_and_labels = list(zip(src_X.reshape(m, img_dim, img_dim), src_y))\n",
    "for index, (image, label) in enumerate(images_and_labels[:10]):\n",
    "    plt.subplot(1, 10, index + 1)\n",
    "    plt.axis('off')\n",
    "    plt.imshow(image, cmap=plt.cm.gray_r)\n",
    "    plt.title('{}'.format(label))"
   ]
  },
  {
   "cell_type": "code",
   "execution_count": 2,
   "metadata": {
    "collapsed": false,
    "deletable": true,
    "editable": true
   },
   "outputs": [],
   "source": [
    "def nonlin_sigmoid(x, deriv=False):\n",
    "    if deriv:\n",
    "        return x * (1. - x)\n",
    "    return 1. / (1 + np.exp(-x))\n",
    "\n",
    "def nonlin_relu(x, deriv=False):\n",
    "    if deriv:\n",
    "        return 1. * (x > 0)\n",
    "    return np.maximum(x, 0)\n",
    "\n",
    "def forward(model, x):\n",
    "    z1 = np.dot(model['w1'].T, x)\n",
    "    a1 = model['nonlin'](z1)\n",
    "    z2 = np.dot(model['w2'].T, a1)\n",
    "    a2 = model['nonlin'](z2)\n",
    "    return (z1, a1, z2, a2)\n",
    "\n",
    "def backward(model, x, z1, a1, z2, a2, y):\n",
    "    loss = a2 - y\n",
    "    grad_w2 = np.dot(a1, loss.T)\n",
    "    grad_a1 = np.dot(model['w2'], loss) * model['nonlin'](a1, deriv=True)\n",
    "    grad_w1 = np.dot(x, grad_a1.T)\n",
    "    return (loss, grad_w1, grad_w2)\n",
    "\n",
    "def predict(model, x):\n",
    "    return np.argmax(forward(model, x)[3])\n",
    "\n",
    "def accuracy(model, X, y):\n",
    "    correct = []\n",
    "    m = X.shape[0]\n",
    "    for i in range(m):\n",
    "        y_hat = predict(model, X[i,:].reshape(-1, 1))\n",
    "        _y = np.argmax(y[i,:].reshape(-1, 1))\n",
    "        correct.append(y_hat == _y)\n",
    "    return np.sum(1.*np.array(correct)) / m\n",
    "\n",
    "def create_model(dim_input, dim_hidden, dim_output, nonlin=nonlin_sigmoid, epochs=30, learning_rate=0.9):    \n",
    "    model = {}\n",
    "    model['dims'] = (dim_input, dim_hidden, dim_output)\n",
    "    model['nonlin'] = nonlin # which non linearity fn we use for the activations of hidden & output\n",
    "    model['w1'] = np.random.random((dim_input, dim_hidden))\n",
    "    model['w2'] = np.random.random((dim_hidden, dim_output))\n",
    "    model['epochs'] = epochs\n",
    "    model['learning_rate'] = learning_rate\n",
    "    return model\n",
    "\n",
    "def train_model(model):\n",
    "    all_examples_err = []\n",
    "    for e in range(model['epochs']):\n",
    "        single_example_err = []\n",
    "        for i in range(m_train):\n",
    "            _x = X_train[i,:].reshape(-1, 1)\n",
    "            _y = y_train[i,:].reshape(-1, 1)\n",
    "\n",
    "            z1, a1, z2, a2 = forward(model, _x)\n",
    "            loss, grad_w1, grad_w2 = backward(model, _x, z1, a1, z2, a2, _y)\n",
    "\n",
    "            model['w2'] -= model['learning_rate'] * grad_w2\n",
    "            model['w1'] -= model['learning_rate'] * grad_w1\n",
    "\n",
    "            single_example_err.append(np.square(loss).sum())\n",
    "\n",
    "        all_examples_err.append(np.sum(single_example_err) / m_train)\n",
    "    model['error'] = all_examples_err\n",
    "    return model\n",
    "\n",
    "def plot_model_error(model, label=\"Model\"):\n",
    "    f, ax = plt.subplots()\n",
    "    ax.plot(model['error'])\n",
    "    ax.set_title(\"Model-{} Train accuracy: {:.02f}%\\nTest accuracy: {:.02f}%\".format(\n",
    "        label,\n",
    "        accuracy(model, X_train, y_train),\n",
    "        accuracy(model, X_test, y_test)))"
   ]
  },
  {
   "cell_type": "code",
   "execution_count": 3,
   "metadata": {
    "collapsed": false,
    "deletable": true,
    "editable": true
   },
   "outputs": [
    {
     "data": {
      "image/png": "[encoded data removed]",
      "text/plain": [
       "<matplotlib.figure.Figure at 0x7f61c019a860>"
      ]
     },
     "metadata": {},
     "output_type": "display_data"
    },
    {
     "data": {
      "image/png": "[encoded data removed]",
      "text/plain": [
       "<matplotlib.figure.Figure at 0x7f61c019aa58>"
      ]
     },
     "metadata": {},
     "output_type": "display_data"
    }
   ],
   "source": [
    "model1 = create_model(dim_input, dim_hidden, dim_output, nonlin=nonlin_sigmoid, epochs=10, learning_rate=0.9)\n",
    "model1 = train_model(model1)\n",
    "plot_model_error(model1, \"Sigmoid\")\n",
    "\n",
    "model2 = create_model(dim_input, dim_hidden, dim_output, nonlin=nonlin_relu, epochs=10, learning_rate=0.05)\n",
    "model2 = train_model(model2)\n",
    "plot_model_error(model2, \"ReLU\")"
   ]
  },
  {
   "cell_type": "code",
   "execution_count": 4,
   "metadata": {
    "collapsed": false,
    "deletable": true,
    "editable": true
   },
   "outputs": [
    {
     "name": "stdout",
     "output_type": "stream",
     "text": [
      "model 1 predicts 7\n",
      "model 2 predicts 7\n"
     ]
    },
    {
     "data": {
      "image/png": "[encoded data removed]",
      "text/plain": [
       "<matplotlib.figure.Figure at 0x7f618fea9a20>"
      ]
     },
     "metadata": {},
     "output_type": "display_data"
    }
   ],
   "source": [
    "# \"create\" an arbitrary digit and predict its label\n",
    "example = np.array([[  0.,   0.,   2.,  1.,   1.,   1.,   0.,   0.],\n",
    "           [  0.,   24.,  22.,  22.,  22.,  15.,   20.,   0.],\n",
    "           [  0.,   0.,  0.,   0.,   0.,  0.,   22.,   0.],\n",
    "           [  0.,   0.,  0.,   0.,   0.,  22.,   0.,   0.],\n",
    "           [  0.,   0.,   0.,   0.,   22.,   0.,   0.,   0.],\n",
    "           [  0.,   0.,  0.,   20.,   0.,  0.,   0.,   0.],\n",
    "           [  0.,   0.,  0.,   20.,  1.,  0.,   0.,   0.],\n",
    "           [  0.,   0.,   20.,  0.,  0.,   0.,   0.,   0.]])\n",
    "f, ax = plt.subplots(figsize=(4,4))\n",
    "ax.imshow(example, cmap=plt.cm.gray_r)\n",
    "print(\"model 1 predicts {}\\nmodel 2 predicts {}\".format(\n",
    "    predict(model1, example.reshape(-1, 1)),\n",
    "    predict(model2, example.reshape(-1, 1))))"
   ]
  },
  {
   "cell_type": "code",
   "execution_count": null,
   "metadata": {
    "collapsed": false,
    "deletable": true,
    "editable": true
   },
   "outputs": [],
   "source": []
  }
 ],
 "metadata": {
  "kernelspec": {
   "display_name": "Python 3",
   "language": "python",
   "name": "python3"
  },
  "language_info": {
   "codemirror_mode": {
    "name": "ipython",
    "version": 3
   },
   "file_extension": ".py",
   "mimetype": "text/x-python",
   "name": "python",
   "nbconvert_exporter": "python",
   "pygments_lexer": "ipython3",
   "version": "3.5.2"
  }
 },
 "nbformat": 4,
 "nbformat_minor": 2
}
